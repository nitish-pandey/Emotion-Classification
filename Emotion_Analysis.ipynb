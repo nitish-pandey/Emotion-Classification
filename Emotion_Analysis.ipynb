{
  "nbformat": 4,
  "nbformat_minor": 0,
  "metadata": {
    "colab": {
      "name": "Emotion-Analysis.ipynb",
      "provenance": [],
      "mount_file_id": "1Hg2TKSPhWyjQZJDEyHaQxuRiD-A7_WtQ",
      "authorship_tag": "ABX9TyOmwAXaPTIEaIppE1bXNMJ8",
      "include_colab_link": true
    },
    "kernelspec": {
      "name": "python3",
      "display_name": "Python 3"
    },
    "language_info": {
      "name": "python"
    }
  },
  "cells": [
    {
      "cell_type": "markdown",
      "metadata": {
        "id": "view-in-github",
        "colab_type": "text"
      },
      "source": [
        "<a href=\"https://colab.research.google.com/github/nitish-pandey/Emotion-Analysis/blob/main/Emotion_Analysis.ipynb\" target=\"_parent\"><img src=\"https://colab.research.google.com/assets/colab-badge.svg\" alt=\"Open In Colab\"/></a>"
      ]
    },
    {
      "cell_type": "markdown",
      "metadata": {
        "id": "n18HwMjdyLzy"
      },
      "source": [
        "#Imports"
      ]
    },
    {
      "cell_type": "code",
      "metadata": {
        "id": "epjp7AcwyLLA",
        "colab": {
          "base_uri": "https://localhost:8080/"
        },
        "outputId": "1907c5f3-7125-48e6-9276-6f8d78cfa389"
      },
      "source": [
        "import pandas as pd\n",
        "import numpy as np\n",
        "import os\n",
        "import random\n",
        "import re\n",
        "\n",
        "\n",
        "import nltk\n",
        "nltk.download('punkt')\n",
        "nltk.download('wordnet')\n",
        "nltk.download('stopwords')\n",
        "import tensorflow as tf"
      ],
      "execution_count": 1,
      "outputs": [
        {
          "output_type": "stream",
          "name": "stdout",
          "text": [
            "[nltk_data] Downloading package punkt to /root/nltk_data...\n",
            "[nltk_data]   Unzipping tokenizers/punkt.zip.\n",
            "[nltk_data] Downloading package wordnet to /root/nltk_data...\n",
            "[nltk_data]   Unzipping corpora/wordnet.zip.\n",
            "[nltk_data] Downloading package stopwords to /root/nltk_data...\n",
            "[nltk_data]   Unzipping corpora/stopwords.zip.\n"
          ]
        }
      ]
    },
    {
      "cell_type": "markdown",
      "metadata": {
        "id": "sxmuUbK-1H2x"
      },
      "source": [
        "# Data / Paragraph"
      ]
    },
    {
      "cell_type": "code",
      "source": [
        "train=pd.read_csv('/content/drive/MyDrive/My Codes and data/DataSets/NLP:Emotion/train.txt',sep=';',names=['Sentences','Emotion'])\n",
        "test=pd.read_csv('/content/drive/MyDrive/My Codes and data/DataSets/NLP:Emotion/test.txt',sep=';',names=['Sentences','Emotion'])\n",
        "val=pd.read_csv('/content/drive/MyDrive/My Codes and data/DataSets/NLP:Emotion/val.txt',sep=';',names=['Sentences','Emotion'])"
      ],
      "metadata": {
        "id": "1vMD8rY75NRP"
      },
      "execution_count": 2,
      "outputs": []
    },
    {
      "cell_type": "code",
      "source": [
        "print(train.head(),'\\n\\n',test.head(),'\\n\\n',val.head())"
      ],
      "metadata": {
        "id": "JmQ7-Ze970nw",
        "colab": {
          "base_uri": "https://localhost:8080/"
        },
        "outputId": "92902f9c-584a-41a0-d0ac-6be892ceafa3"
      },
      "execution_count": 3,
      "outputs": [
        {
          "output_type": "stream",
          "name": "stdout",
          "text": [
            "                                           Sentences  Emotion\n",
            "0                            i didnt feel humiliated  sadness\n",
            "1  i can go from feeling so hopeless to so damned...  sadness\n",
            "2   im grabbing a minute to post i feel greedy wrong    anger\n",
            "3  i am ever feeling nostalgic about the fireplac...     love\n",
            "4                               i am feeling grouchy    anger \n",
            "\n",
            "                                            Sentences  Emotion\n",
            "0  im feeling rather rotten so im not very ambiti...  sadness\n",
            "1          im updating my blog because i feel shitty  sadness\n",
            "2  i never make her separate from me because i do...  sadness\n",
            "3  i left with my bouquet of red and yellow tulip...      joy\n",
            "4    i was feeling a little vain when i did this one  sadness \n",
            "\n",
            "                                            Sentences  Emotion\n",
            "0  im feeling quite sad and sorry for myself but ...  sadness\n",
            "1  i feel like i am still looking at a blank canv...  sadness\n",
            "2                     i feel like a faithful servant     love\n",
            "3                  i am just feeling cranky and blue    anger\n",
            "4  i can have for a treat or if i am feeling festive      joy\n"
          ]
        }
      ]
    },
    {
      "cell_type": "code",
      "source": [
        "print(\"Training data : \",train.shape[0])\n",
        "print(\"Testing data : \",test.shape[0])\n",
        "print(\"Validation data : \",val.shape[0])"
      ],
      "metadata": {
        "id": "BeGXZ-cR72O6",
        "colab": {
          "base_uri": "https://localhost:8080/"
        },
        "outputId": "d7d4c14f-4b14-4e2b-b79b-fcff31de99db"
      },
      "execution_count": 4,
      "outputs": [
        {
          "output_type": "stream",
          "name": "stdout",
          "text": [
            "Training data :  16000\n",
            "Testing data :  2000\n",
            "Validation data :  2000\n"
          ]
        }
      ]
    },
    {
      "cell_type": "code",
      "source": [
        "train.describe()"
      ],
      "metadata": {
        "id": "1eSNC1TD-aBD",
        "colab": {
          "base_uri": "https://localhost:8080/",
          "height": 175
        },
        "outputId": "3d3700e6-5a78-4490-da02-470eb24e094f"
      },
      "execution_count": 5,
      "outputs": [
        {
          "output_type": "execute_result",
          "data": {
            "text/html": [
              "\n",
              "  <div id=\"df-a018093e-0b1a-4e27-a087-f33c32d35c15\">\n",
              "    <div class=\"colab-df-container\">\n",
              "      <div>\n",
              "<style scoped>\n",
              "    .dataframe tbody tr th:only-of-type {\n",
              "        vertical-align: middle;\n",
              "    }\n",
              "\n",
              "    .dataframe tbody tr th {\n",
              "        vertical-align: top;\n",
              "    }\n",
              "\n",
              "    .dataframe thead th {\n",
              "        text-align: right;\n",
              "    }\n",
              "</style>\n",
              "<table border=\"1\" class=\"dataframe\">\n",
              "  <thead>\n",
              "    <tr style=\"text-align: right;\">\n",
              "      <th></th>\n",
              "      <th>Sentences</th>\n",
              "      <th>Emotion</th>\n",
              "    </tr>\n",
              "  </thead>\n",
              "  <tbody>\n",
              "    <tr>\n",
              "      <th>count</th>\n",
              "      <td>16000</td>\n",
              "      <td>16000</td>\n",
              "    </tr>\n",
              "    <tr>\n",
              "      <th>unique</th>\n",
              "      <td>15969</td>\n",
              "      <td>6</td>\n",
              "    </tr>\n",
              "    <tr>\n",
              "      <th>top</th>\n",
              "      <td>i tend to stop breathing when i m feeling stre...</td>\n",
              "      <td>joy</td>\n",
              "    </tr>\n",
              "    <tr>\n",
              "      <th>freq</th>\n",
              "      <td>2</td>\n",
              "      <td>5362</td>\n",
              "    </tr>\n",
              "  </tbody>\n",
              "</table>\n",
              "</div>\n",
              "      <button class=\"colab-df-convert\" onclick=\"convertToInteractive('df-a018093e-0b1a-4e27-a087-f33c32d35c15')\"\n",
              "              title=\"Convert this dataframe to an interactive table.\"\n",
              "              style=\"display:none;\">\n",
              "        \n",
              "  <svg xmlns=\"http://www.w3.org/2000/svg\" height=\"24px\"viewBox=\"0 0 24 24\"\n",
              "       width=\"24px\">\n",
              "    <path d=\"M0 0h24v24H0V0z\" fill=\"none\"/>\n",
              "    <path d=\"M18.56 5.44l.94 2.06.94-2.06 2.06-.94-2.06-.94-.94-2.06-.94 2.06-2.06.94zm-11 1L8.5 8.5l.94-2.06 2.06-.94-2.06-.94L8.5 2.5l-.94 2.06-2.06.94zm10 10l.94 2.06.94-2.06 2.06-.94-2.06-.94-.94-2.06-.94 2.06-2.06.94z\"/><path d=\"M17.41 7.96l-1.37-1.37c-.4-.4-.92-.59-1.43-.59-.52 0-1.04.2-1.43.59L10.3 9.45l-7.72 7.72c-.78.78-.78 2.05 0 2.83L4 21.41c.39.39.9.59 1.41.59.51 0 1.02-.2 1.41-.59l7.78-7.78 2.81-2.81c.8-.78.8-2.07 0-2.86zM5.41 20L4 18.59l7.72-7.72 1.47 1.35L5.41 20z\"/>\n",
              "  </svg>\n",
              "      </button>\n",
              "      \n",
              "  <style>\n",
              "    .colab-df-container {\n",
              "      display:flex;\n",
              "      flex-wrap:wrap;\n",
              "      gap: 12px;\n",
              "    }\n",
              "\n",
              "    .colab-df-convert {\n",
              "      background-color: #E8F0FE;\n",
              "      border: none;\n",
              "      border-radius: 50%;\n",
              "      cursor: pointer;\n",
              "      display: none;\n",
              "      fill: #1967D2;\n",
              "      height: 32px;\n",
              "      padding: 0 0 0 0;\n",
              "      width: 32px;\n",
              "    }\n",
              "\n",
              "    .colab-df-convert:hover {\n",
              "      background-color: #E2EBFA;\n",
              "      box-shadow: 0px 1px 2px rgba(60, 64, 67, 0.3), 0px 1px 3px 1px rgba(60, 64, 67, 0.15);\n",
              "      fill: #174EA6;\n",
              "    }\n",
              "\n",
              "    [theme=dark] .colab-df-convert {\n",
              "      background-color: #3B4455;\n",
              "      fill: #D2E3FC;\n",
              "    }\n",
              "\n",
              "    [theme=dark] .colab-df-convert:hover {\n",
              "      background-color: #434B5C;\n",
              "      box-shadow: 0px 1px 3px 1px rgba(0, 0, 0, 0.15);\n",
              "      filter: drop-shadow(0px 1px 2px rgba(0, 0, 0, 0.3));\n",
              "      fill: #FFFFFF;\n",
              "    }\n",
              "  </style>\n",
              "\n",
              "      <script>\n",
              "        const buttonEl =\n",
              "          document.querySelector('#df-a018093e-0b1a-4e27-a087-f33c32d35c15 button.colab-df-convert');\n",
              "        buttonEl.style.display =\n",
              "          google.colab.kernel.accessAllowed ? 'block' : 'none';\n",
              "\n",
              "        async function convertToInteractive(key) {\n",
              "          const element = document.querySelector('#df-a018093e-0b1a-4e27-a087-f33c32d35c15');\n",
              "          const dataTable =\n",
              "            await google.colab.kernel.invokeFunction('convertToInteractive',\n",
              "                                                     [key], {});\n",
              "          if (!dataTable) return;\n",
              "\n",
              "          const docLinkHtml = 'Like what you see? Visit the ' +\n",
              "            '<a target=\"_blank\" href=https://colab.research.google.com/notebooks/data_table.ipynb>data table notebook</a>'\n",
              "            + ' to learn more about interactive tables.';\n",
              "          element.innerHTML = '';\n",
              "          dataTable['output_type'] = 'display_data';\n",
              "          await google.colab.output.renderOutput(dataTable, element);\n",
              "          const docLink = document.createElement('div');\n",
              "          docLink.innerHTML = docLinkHtml;\n",
              "          element.appendChild(docLink);\n",
              "        }\n",
              "      </script>\n",
              "    </div>\n",
              "  </div>\n",
              "  "
            ],
            "text/plain": [
              "                                                Sentences Emotion\n",
              "count                                               16000   16000\n",
              "unique                                              15969       6\n",
              "top     i tend to stop breathing when i m feeling stre...     joy\n",
              "freq                                                    2    5362"
            ]
          },
          "metadata": {},
          "execution_count": 5
        }
      ]
    },
    {
      "cell_type": "code",
      "source": [
        "train.drop_duplicates(inplace=True)\n",
        "train.dropna(inplace=True)"
      ],
      "metadata": {
        "id": "PXP9XrB198Xd"
      },
      "execution_count": 6,
      "outputs": []
    },
    {
      "cell_type": "code",
      "source": [
        "train.groupby('Emotion').count()"
      ],
      "metadata": {
        "id": "jo70UN1T9mth",
        "colab": {
          "base_uri": "https://localhost:8080/",
          "height": 269
        },
        "outputId": "1912e9a4-057b-4597-de0f-a641ed48dc2a"
      },
      "execution_count": 7,
      "outputs": [
        {
          "output_type": "execute_result",
          "data": {
            "text/html": [
              "\n",
              "  <div id=\"df-8ba1318f-53f9-4c02-8a78-f1cf42ee18cd\">\n",
              "    <div class=\"colab-df-container\">\n",
              "      <div>\n",
              "<style scoped>\n",
              "    .dataframe tbody tr th:only-of-type {\n",
              "        vertical-align: middle;\n",
              "    }\n",
              "\n",
              "    .dataframe tbody tr th {\n",
              "        vertical-align: top;\n",
              "    }\n",
              "\n",
              "    .dataframe thead th {\n",
              "        text-align: right;\n",
              "    }\n",
              "</style>\n",
              "<table border=\"1\" class=\"dataframe\">\n",
              "  <thead>\n",
              "    <tr style=\"text-align: right;\">\n",
              "      <th></th>\n",
              "      <th>Sentences</th>\n",
              "    </tr>\n",
              "    <tr>\n",
              "      <th>Emotion</th>\n",
              "      <th></th>\n",
              "    </tr>\n",
              "  </thead>\n",
              "  <tbody>\n",
              "    <tr>\n",
              "      <th>anger</th>\n",
              "      <td>2159</td>\n",
              "    </tr>\n",
              "    <tr>\n",
              "      <th>fear</th>\n",
              "      <td>1937</td>\n",
              "    </tr>\n",
              "    <tr>\n",
              "      <th>joy</th>\n",
              "      <td>5361</td>\n",
              "    </tr>\n",
              "    <tr>\n",
              "      <th>love</th>\n",
              "      <td>1304</td>\n",
              "    </tr>\n",
              "    <tr>\n",
              "      <th>sadness</th>\n",
              "      <td>4666</td>\n",
              "    </tr>\n",
              "    <tr>\n",
              "      <th>surprise</th>\n",
              "      <td>572</td>\n",
              "    </tr>\n",
              "  </tbody>\n",
              "</table>\n",
              "</div>\n",
              "      <button class=\"colab-df-convert\" onclick=\"convertToInteractive('df-8ba1318f-53f9-4c02-8a78-f1cf42ee18cd')\"\n",
              "              title=\"Convert this dataframe to an interactive table.\"\n",
              "              style=\"display:none;\">\n",
              "        \n",
              "  <svg xmlns=\"http://www.w3.org/2000/svg\" height=\"24px\"viewBox=\"0 0 24 24\"\n",
              "       width=\"24px\">\n",
              "    <path d=\"M0 0h24v24H0V0z\" fill=\"none\"/>\n",
              "    <path d=\"M18.56 5.44l.94 2.06.94-2.06 2.06-.94-2.06-.94-.94-2.06-.94 2.06-2.06.94zm-11 1L8.5 8.5l.94-2.06 2.06-.94-2.06-.94L8.5 2.5l-.94 2.06-2.06.94zm10 10l.94 2.06.94-2.06 2.06-.94-2.06-.94-.94-2.06-.94 2.06-2.06.94z\"/><path d=\"M17.41 7.96l-1.37-1.37c-.4-.4-.92-.59-1.43-.59-.52 0-1.04.2-1.43.59L10.3 9.45l-7.72 7.72c-.78.78-.78 2.05 0 2.83L4 21.41c.39.39.9.59 1.41.59.51 0 1.02-.2 1.41-.59l7.78-7.78 2.81-2.81c.8-.78.8-2.07 0-2.86zM5.41 20L4 18.59l7.72-7.72 1.47 1.35L5.41 20z\"/>\n",
              "  </svg>\n",
              "      </button>\n",
              "      \n",
              "  <style>\n",
              "    .colab-df-container {\n",
              "      display:flex;\n",
              "      flex-wrap:wrap;\n",
              "      gap: 12px;\n",
              "    }\n",
              "\n",
              "    .colab-df-convert {\n",
              "      background-color: #E8F0FE;\n",
              "      border: none;\n",
              "      border-radius: 50%;\n",
              "      cursor: pointer;\n",
              "      display: none;\n",
              "      fill: #1967D2;\n",
              "      height: 32px;\n",
              "      padding: 0 0 0 0;\n",
              "      width: 32px;\n",
              "    }\n",
              "\n",
              "    .colab-df-convert:hover {\n",
              "      background-color: #E2EBFA;\n",
              "      box-shadow: 0px 1px 2px rgba(60, 64, 67, 0.3), 0px 1px 3px 1px rgba(60, 64, 67, 0.15);\n",
              "      fill: #174EA6;\n",
              "    }\n",
              "\n",
              "    [theme=dark] .colab-df-convert {\n",
              "      background-color: #3B4455;\n",
              "      fill: #D2E3FC;\n",
              "    }\n",
              "\n",
              "    [theme=dark] .colab-df-convert:hover {\n",
              "      background-color: #434B5C;\n",
              "      box-shadow: 0px 1px 3px 1px rgba(0, 0, 0, 0.15);\n",
              "      filter: drop-shadow(0px 1px 2px rgba(0, 0, 0, 0.3));\n",
              "      fill: #FFFFFF;\n",
              "    }\n",
              "  </style>\n",
              "\n",
              "      <script>\n",
              "        const buttonEl =\n",
              "          document.querySelector('#df-8ba1318f-53f9-4c02-8a78-f1cf42ee18cd button.colab-df-convert');\n",
              "        buttonEl.style.display =\n",
              "          google.colab.kernel.accessAllowed ? 'block' : 'none';\n",
              "\n",
              "        async function convertToInteractive(key) {\n",
              "          const element = document.querySelector('#df-8ba1318f-53f9-4c02-8a78-f1cf42ee18cd');\n",
              "          const dataTable =\n",
              "            await google.colab.kernel.invokeFunction('convertToInteractive',\n",
              "                                                     [key], {});\n",
              "          if (!dataTable) return;\n",
              "\n",
              "          const docLinkHtml = 'Like what you see? Visit the ' +\n",
              "            '<a target=\"_blank\" href=https://colab.research.google.com/notebooks/data_table.ipynb>data table notebook</a>'\n",
              "            + ' to learn more about interactive tables.';\n",
              "          element.innerHTML = '';\n",
              "          dataTable['output_type'] = 'display_data';\n",
              "          await google.colab.output.renderOutput(dataTable, element);\n",
              "          const docLink = document.createElement('div');\n",
              "          docLink.innerHTML = docLinkHtml;\n",
              "          element.appendChild(docLink);\n",
              "        }\n",
              "      </script>\n",
              "    </div>\n",
              "  </div>\n",
              "  "
            ],
            "text/plain": [
              "          Sentences\n",
              "Emotion            \n",
              "anger          2159\n",
              "fear           1937\n",
              "joy            5361\n",
              "love           1304\n",
              "sadness        4666\n",
              "surprise        572"
            ]
          },
          "metadata": {},
          "execution_count": 7
        }
      ]
    },
    {
      "cell_type": "markdown",
      "metadata": {
        "id": "1bAOwuspLDV5"
      },
      "source": [
        "#Data Cleaning"
      ]
    },
    {
      "cell_type": "code",
      "metadata": {
        "id": "wK2P7l9tLCYj"
      },
      "source": [
        "from nltk.corpus import stopwords\n",
        "stoplist=stopwords.words('english')\n",
        "\n",
        "from nltk.stem import WordNetLemmatizer\n",
        "\n",
        "lemmatizer=WordNetLemmatizer()"
      ],
      "execution_count": 8,
      "outputs": []
    },
    {
      "cell_type": "code",
      "source": [
        "def expand(phrase):\n",
        "    \n",
        "    phrase = re.sub(r\"wont\", \"will not\", phrase)\n",
        "    phrase = re.sub(r\"wouldnt\", \"would not\", phrase)\n",
        "    phrase = re.sub(r\"shouldnt\", \"should not\", phrase)\n",
        "    phrase = re.sub(r\"couldnt\", \"could not\", phrase)\n",
        "    phrase = re.sub(r\"cudnt\", \"could not\", phrase)\n",
        "    phrase = re.sub(r\"cant\", \"can not\", phrase)\n",
        "    phrase = re.sub(r\"dont\", \"do not\", phrase)\n",
        "    phrase = re.sub(r\"doesnt\", \"does not\", phrase)\n",
        "    phrase = re.sub(r\"didnt\", \"did not\", phrase)\n",
        "    phrase = re.sub(r\"wasnt\", \"was not\", phrase)\n",
        "    phrase = re.sub(r\"werent\", \"were not\", phrase)\n",
        "    phrase = re.sub(r\"havent\", \"have not\", phrase)\n",
        "    phrase = re.sub(r\"hadnt\", \"had not\", phrase)\n",
        "\n",
        "    \n",
        "    phrase = re.sub(r\"n\\ t\", \" not\", phrase)\n",
        "    phrase = re.sub(r\"\\re\", \" are\", phrase)\n",
        "    phrase = re.sub(r\"\\ s \", \" is \", phrase) \n",
        "    phrase = re.sub(r\"\\ d \", \" would \", phrase)\n",
        "    phrase = re.sub(r\"\\ ll \", \" will \", phrase)\n",
        "    phrase = re.sub(r\"\\dunno\", \"do not \", phrase)\n",
        "    phrase = re.sub(r\"ive \", \"i have \", phrase)\n",
        "    phrase = re.sub(r\"im \", \"i am \", phrase)\n",
        "    phrase = re.sub(r\"i m \", \"i am \", phrase)\n",
        "    phrase = re.sub(r\" w \", \" with \", phrase)\n",
        "\n",
        "    return phrase"
      ],
      "metadata": {
        "id": "jCavTl2wWIoQ"
      },
      "execution_count": 9,
      "outputs": []
    },
    {
      "cell_type": "code",
      "metadata": {
        "id": "jhrvKnGLLWbS"
      },
      "source": [
        "def process(sentences):\n",
        "    list=[]\n",
        "    for i in range(len(sentences)):\n",
        "\n",
        "        # Removing all characters except alphabets\n",
        "        temp=re.sub('[^a-zA-Z]',' ',sentences[i])\n",
        "        \n",
        "        #Expanding the word ( like wont into will not )\n",
        "        temp=expand(temp)\n",
        "\n",
        "        #lowering all characters\n",
        "        temp=temp.lower()\n",
        "        #splitting the sentences into words\n",
        "        temp=temp.split()\n",
        "\n",
        "        # lamaetizing the only words which are not present in stopwords\n",
        "        temp=[lemmatizer.lemmatize(word) for word in temp if word not in set(stoplist)]\n",
        "    \n",
        "        # joining the words into sentences\n",
        "        temp=' '.join(temp)\n",
        "\n",
        "        # Appending the new sentences into the new list which will be forward proceeded\n",
        "        list.append(temp)\n",
        "    return list"
      ],
      "execution_count": 10,
      "outputs": []
    },
    {
      "cell_type": "code",
      "source": [
        "train['Sentences']=process(np.array(train['Sentences']))\n",
        "test['Sentences']=process(np.array(test['Sentences']))\n",
        "val['Sentences']=process(np.array(val['Sentences']))"
      ],
      "metadata": {
        "id": "VeDo_k6m9pmc"
      },
      "execution_count": 11,
      "outputs": []
    },
    {
      "cell_type": "code",
      "source": [
        "emotion=np.array(train['Emotion'].unique())\n",
        "dict={}\n",
        "for i,e in enumerate(emotion):\n",
        "    dict[e]=i\n",
        "\n",
        "dict"
      ],
      "metadata": {
        "id": "YS51BpaFH8qr",
        "colab": {
          "base_uri": "https://localhost:8080/"
        },
        "outputId": "511806dc-1dec-41bd-9fc8-b6823c6a3b45"
      },
      "execution_count": 12,
      "outputs": [
        {
          "output_type": "execute_result",
          "data": {
            "text/plain": [
              "{'anger': 1, 'fear': 4, 'joy': 5, 'love': 2, 'sadness': 0, 'surprise': 3}"
            ]
          },
          "metadata": {},
          "execution_count": 12
        }
      ]
    },
    {
      "cell_type": "code",
      "source": [
        "train['Emotion']=train['Emotion'].replace(dict)\n",
        "test['Emotion']=test['Emotion'].replace(dict)\n",
        "val['Emotion']=val['Emotion'].replace(dict)"
      ],
      "metadata": {
        "id": "IGSep7kgMU5D"
      },
      "execution_count": 13,
      "outputs": []
    },
    {
      "cell_type": "code",
      "source": [
        "train.head()"
      ],
      "metadata": {
        "colab": {
          "base_uri": "https://localhost:8080/",
          "height": 206
        },
        "id": "Cq1A_2XeUIfT",
        "outputId": "602afc6a-94ac-4574-c44f-2efb012218a4"
      },
      "execution_count": 14,
      "outputs": [
        {
          "output_type": "execute_result",
          "data": {
            "text/html": [
              "\n",
              "  <div id=\"df-5fcd2fbd-c471-4623-b534-0ed7cebeadd8\">\n",
              "    <div class=\"colab-df-container\">\n",
              "      <div>\n",
              "<style scoped>\n",
              "    .dataframe tbody tr th:only-of-type {\n",
              "        vertical-align: middle;\n",
              "    }\n",
              "\n",
              "    .dataframe tbody tr th {\n",
              "        vertical-align: top;\n",
              "    }\n",
              "\n",
              "    .dataframe thead th {\n",
              "        text-align: right;\n",
              "    }\n",
              "</style>\n",
              "<table border=\"1\" class=\"dataframe\">\n",
              "  <thead>\n",
              "    <tr style=\"text-align: right;\">\n",
              "      <th></th>\n",
              "      <th>Sentences</th>\n",
              "      <th>Emotion</th>\n",
              "    </tr>\n",
              "  </thead>\n",
              "  <tbody>\n",
              "    <tr>\n",
              "      <th>0</th>\n",
              "      <td>feel humiliated</td>\n",
              "      <td>0</td>\n",
              "    </tr>\n",
              "    <tr>\n",
              "      <th>1</th>\n",
              "      <td>go feeling hopeless damned hopeful around some...</td>\n",
              "      <td>0</td>\n",
              "    </tr>\n",
              "    <tr>\n",
              "      <th>2</th>\n",
              "      <td>grabbing minute post feel greedy wrong</td>\n",
              "      <td>1</td>\n",
              "    </tr>\n",
              "    <tr>\n",
              "      <th>3</th>\n",
              "      <td>ever feeling nostalgic fireplace know still no...</td>\n",
              "      <td>2</td>\n",
              "    </tr>\n",
              "    <tr>\n",
              "      <th>4</th>\n",
              "      <td>feeling grouchy</td>\n",
              "      <td>1</td>\n",
              "    </tr>\n",
              "  </tbody>\n",
              "</table>\n",
              "</div>\n",
              "      <button class=\"colab-df-convert\" onclick=\"convertToInteractive('df-5fcd2fbd-c471-4623-b534-0ed7cebeadd8')\"\n",
              "              title=\"Convert this dataframe to an interactive table.\"\n",
              "              style=\"display:none;\">\n",
              "        \n",
              "  <svg xmlns=\"http://www.w3.org/2000/svg\" height=\"24px\"viewBox=\"0 0 24 24\"\n",
              "       width=\"24px\">\n",
              "    <path d=\"M0 0h24v24H0V0z\" fill=\"none\"/>\n",
              "    <path d=\"M18.56 5.44l.94 2.06.94-2.06 2.06-.94-2.06-.94-.94-2.06-.94 2.06-2.06.94zm-11 1L8.5 8.5l.94-2.06 2.06-.94-2.06-.94L8.5 2.5l-.94 2.06-2.06.94zm10 10l.94 2.06.94-2.06 2.06-.94-2.06-.94-.94-2.06-.94 2.06-2.06.94z\"/><path d=\"M17.41 7.96l-1.37-1.37c-.4-.4-.92-.59-1.43-.59-.52 0-1.04.2-1.43.59L10.3 9.45l-7.72 7.72c-.78.78-.78 2.05 0 2.83L4 21.41c.39.39.9.59 1.41.59.51 0 1.02-.2 1.41-.59l7.78-7.78 2.81-2.81c.8-.78.8-2.07 0-2.86zM5.41 20L4 18.59l7.72-7.72 1.47 1.35L5.41 20z\"/>\n",
              "  </svg>\n",
              "      </button>\n",
              "      \n",
              "  <style>\n",
              "    .colab-df-container {\n",
              "      display:flex;\n",
              "      flex-wrap:wrap;\n",
              "      gap: 12px;\n",
              "    }\n",
              "\n",
              "    .colab-df-convert {\n",
              "      background-color: #E8F0FE;\n",
              "      border: none;\n",
              "      border-radius: 50%;\n",
              "      cursor: pointer;\n",
              "      display: none;\n",
              "      fill: #1967D2;\n",
              "      height: 32px;\n",
              "      padding: 0 0 0 0;\n",
              "      width: 32px;\n",
              "    }\n",
              "\n",
              "    .colab-df-convert:hover {\n",
              "      background-color: #E2EBFA;\n",
              "      box-shadow: 0px 1px 2px rgba(60, 64, 67, 0.3), 0px 1px 3px 1px rgba(60, 64, 67, 0.15);\n",
              "      fill: #174EA6;\n",
              "    }\n",
              "\n",
              "    [theme=dark] .colab-df-convert {\n",
              "      background-color: #3B4455;\n",
              "      fill: #D2E3FC;\n",
              "    }\n",
              "\n",
              "    [theme=dark] .colab-df-convert:hover {\n",
              "      background-color: #434B5C;\n",
              "      box-shadow: 0px 1px 3px 1px rgba(0, 0, 0, 0.15);\n",
              "      filter: drop-shadow(0px 1px 2px rgba(0, 0, 0, 0.3));\n",
              "      fill: #FFFFFF;\n",
              "    }\n",
              "  </style>\n",
              "\n",
              "      <script>\n",
              "        const buttonEl =\n",
              "          document.querySelector('#df-5fcd2fbd-c471-4623-b534-0ed7cebeadd8 button.colab-df-convert');\n",
              "        buttonEl.style.display =\n",
              "          google.colab.kernel.accessAllowed ? 'block' : 'none';\n",
              "\n",
              "        async function convertToInteractive(key) {\n",
              "          const element = document.querySelector('#df-5fcd2fbd-c471-4623-b534-0ed7cebeadd8');\n",
              "          const dataTable =\n",
              "            await google.colab.kernel.invokeFunction('convertToInteractive',\n",
              "                                                     [key], {});\n",
              "          if (!dataTable) return;\n",
              "\n",
              "          const docLinkHtml = 'Like what you see? Visit the ' +\n",
              "            '<a target=\"_blank\" href=https://colab.research.google.com/notebooks/data_table.ipynb>data table notebook</a>'\n",
              "            + ' to learn more about interactive tables.';\n",
              "          element.innerHTML = '';\n",
              "          dataTable['output_type'] = 'display_data';\n",
              "          await google.colab.output.renderOutput(dataTable, element);\n",
              "          const docLink = document.createElement('div');\n",
              "          docLink.innerHTML = docLinkHtml;\n",
              "          element.appendChild(docLink);\n",
              "        }\n",
              "      </script>\n",
              "    </div>\n",
              "  </div>\n",
              "  "
            ],
            "text/plain": [
              "                                           Sentences  Emotion\n",
              "0                                    feel humiliated        0\n",
              "1  go feeling hopeless damned hopeful around some...        0\n",
              "2             grabbing minute post feel greedy wrong        1\n",
              "3  ever feeling nostalgic fireplace know still no...        2\n",
              "4                                    feeling grouchy        1"
            ]
          },
          "metadata": {},
          "execution_count": 14
        }
      ]
    },
    {
      "cell_type": "markdown",
      "metadata": {
        "id": "hVWnFFk8JQ_o"
      },
      "source": [
        "#Word Embedding"
      ]
    },
    {
      "cell_type": "markdown",
      "source": [
        "##TF-IDF"
      ],
      "metadata": {
        "id": "EH0968tY7J1p"
      }
    },
    {
      "cell_type": "code",
      "metadata": {
        "id": "DdjM_jR9JZcl"
      },
      "source": [
        "from sklearn.feature_extraction.text import TfidfVectorizer\n",
        "\n",
        "tfidf=TfidfVectorizer(max_features=8000)\n",
        "train_data=tfidf.fit_transform(train['Sentences'])\n",
        "test_data=tfidf.transform(test['Sentences'])\n",
        "val_data=tfidf.transform(val['Sentences'])\n",
        "\n"
      ],
      "execution_count": 15,
      "outputs": []
    },
    {
      "cell_type": "code",
      "source": [
        "train_label=train.Emotion.values\n",
        "test_label=test.Emotion.values\n",
        "val_label=val.Emotion.values"
      ],
      "metadata": {
        "id": "ZGEeI5X7Y-Iy"
      },
      "execution_count": 16,
      "outputs": []
    },
    {
      "cell_type": "markdown",
      "source": [
        "# Machine Learning Implementation"
      ],
      "metadata": {
        "id": "DB2TXB3gdzma"
      }
    },
    {
      "cell_type": "code",
      "source": [
        "from sklearn.linear_model import LogisticRegression\n",
        "\n",
        "clf=LogisticRegression(max_iter=100000)\n",
        "\n",
        "clf.fit(train_data,train_label)\n",
        "\n",
        "pred=clf.predict(test_data)"
      ],
      "metadata": {
        "id": "sYfzr804Zq9w"
      },
      "execution_count": 17,
      "outputs": []
    },
    {
      "cell_type": "code",
      "source": [
        "from sklearn.metrics import classification_report ,confusion_matrix,accuracy_score\n",
        "print('Accuracy : ',accuracy_score(test_label,pred))\n",
        "print('\\nConfusion Matrix : \\n',confusion_matrix(test_label,pred))\n",
        "print('\\n\\nClassification Report : ',classification_report(test_label,pred))"
      ],
      "metadata": {
        "colab": {
          "base_uri": "https://localhost:8080/"
        },
        "id": "pc_JzqT0aEao",
        "outputId": "6868ac21-859b-4691-f053-fa244ec753d1"
      },
      "execution_count": 18,
      "outputs": [
        {
          "output_type": "stream",
          "name": "stdout",
          "text": [
            "Accuracy :  0.868\n",
            "\n",
            "Confusion Matrix : \n",
            " [[539  14   1   1   4  22]\n",
            " [ 22 229   1   0   5  18]\n",
            " [  9   3  98   0   0  49]\n",
            " [  3   2   0  33  14  14]\n",
            " [ 23   9   1   1 176  14]\n",
            " [  7   4  18   2   3 661]]\n",
            "\n",
            "\n",
            "Classification Report :                precision    recall  f1-score   support\n",
            "\n",
            "           0       0.89      0.93      0.91       581\n",
            "           1       0.88      0.83      0.85       275\n",
            "           2       0.82      0.62      0.71       159\n",
            "           3       0.89      0.50      0.64        66\n",
            "           4       0.87      0.79      0.83       224\n",
            "           5       0.85      0.95      0.90       695\n",
            "\n",
            "    accuracy                           0.87      2000\n",
            "   macro avg       0.87      0.77      0.81      2000\n",
            "weighted avg       0.87      0.87      0.86      2000\n",
            "\n"
          ]
        }
      ]
    },
    {
      "cell_type": "code",
      "source": [
        "import matplotlib.pyplot as plt\n",
        "import seaborn as sns\n",
        "label=['Sadness','Anger','Love','Surprise','Fear','Joy']\n",
        "matrix=confusion_matrix(test_label,pred)\n",
        "\n",
        "matrix=pd.DataFrame(matrix,columns=label,index=label)\n",
        "fig, ax = plt.subplots(figsize=(15,15))\n",
        "ax.set(title='Confusion Matrix')\n",
        "\n",
        "sns.heatmap(matrix,cmap='Blues',annot=True,ax=ax)"
      ],
      "metadata": {
        "colab": {
          "base_uri": "https://localhost:8080/",
          "height": 897
        },
        "id": "g83XHfZmaZ2f",
        "outputId": "b5ffeacc-327b-4998-e81c-0727854de489"
      },
      "execution_count": 19,
      "outputs": [
        {
          "output_type": "execute_result",
          "data": {
            "text/plain": [
              "<matplotlib.axes._subplots.AxesSubplot at 0x7f9fc0a26650>"
            ]
          },
          "metadata": {},
          "execution_count": 19
        },
        {
          "output_type": "display_data",
          "data": {
            "image/png": "[encoded data removed]",
            "text/plain": [
              "<Figure size 1080x1080 with 2 Axes>"
            ]
          },
          "metadata": {
            "needs_background": "light"
          }
        }
      ]
    },
    {
      "cell_type": "markdown",
      "source": [
        "#Saving the model"
      ],
      "metadata": {
        "id": "Airr1DRlgmtt"
      }
    },
    {
      "cell_type": "code",
      "source": [
        "import joblib\n",
        "\n",
        "joblib.dump(clf,'mymodel.pkl')\n",
        "joblib.dump(tfidf,'TF-IDF_vectorizer.pkl')"
      ],
      "metadata": {
        "colab": {
          "base_uri": "https://localhost:8080/"
        },
        "id": "1PDwwGN1gmE8",
        "outputId": "0bd2cc9f-8152-4027-ea5d-25b8f6526f23"
      },
      "execution_count": 20,
      "outputs": [
        {
          "output_type": "execute_result",
          "data": {
            "text/plain": [
              "['TF-IDF_vectorizer.pkl']"
            ]
          },
          "metadata": {},
          "execution_count": 20
        }
      ]
    }
  ]
}